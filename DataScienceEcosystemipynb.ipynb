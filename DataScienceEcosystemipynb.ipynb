{
  "nbformat": 4,
  "nbformat_minor": 0,
  "metadata": {
    "colab": {
      "provenance": []
    },
    "kernelspec": {
      "name": "python3",
      "display_name": "Python 3"
    },
    "language_info": {
      "name": "python"
    }
  },
  "cells": [
    {
      "cell_type": "code",
      "execution_count": null,
      "metadata": {
        "id": "4xg_f-ury4OZ"
      },
      "outputs": [],
      "source": [
        "# Data Science Tools and Ecosystem H1"
      ]
    },
    {
      "cell_type": "code",
      "source": [
        "# In this notebook, Data Science Tools and Ecosystem are summarized."
      ],
      "metadata": {
        "id": "w17ZUvFczgPl"
      },
      "execution_count": null,
      "outputs": []
    },
    {
      "cell_type": "code",
      "source": [
        "# Some of the popular languages that Data Scientists use are:\n",
        "1. Python\n",
        "2. R\n",
        "3. SQL\n"
      ],
      "metadata": {
        "id": "O_SpPp4fzmWY"
      },
      "execution_count": null,
      "outputs": []
    },
    {
      "cell_type": "code",
      "source": [
        "# Some of the commonly used libraries used by Data Scientists include:\n",
        "\n",
        "1. NumPy\n",
        "2. Pandas\n",
        "3. Matplotlib"
      ],
      "metadata": {
        "id": "-rKN6aZr0t-o"
      },
      "execution_count": null,
      "outputs": []
    },
    {
      "cell_type": "code",
      "source": [
        "|Data Science Tools|\n",
        "|------------------|\n",
        "|Jupyter Notebook|\n",
        "|RStudio|\n",
        "|Spyder|"
      ],
      "metadata": {
        "id": "tvDTzkOS1tf-"
      },
      "execution_count": null,
      "outputs": []
    },
    {
      "cell_type": "code",
      "source": [
        "# Below are a few examples of evaluating arithmetic expressions in Python H3\n"
      ],
      "metadata": {
        "id": "tjL5RpGm2LOG"
      },
      "execution_count": null,
      "outputs": []
    },
    {
      "cell_type": "code",
      "source": [
        "# This a simple arithmetic expression to mutiply then add integers\n",
        "\n",
        "(3*4)+5"
      ],
      "metadata": {
        "colab": {
          "base_uri": "https://localhost:8080/"
        },
        "id": "uSWtMB_I4QwF",
        "outputId": "7b327395-e339-4f57-e7fa-408c4c911e24"
      },
      "execution_count": 1,
      "outputs": [
        {
          "output_type": "execute_result",
          "data": {
            "text/plain": [
              "17"
            ]
          },
          "metadata": {},
          "execution_count": 1
        }
      ]
    },
    {
      "cell_type": "code",
      "source": [
        "# This will convert 200 minutes to hours by diving by 60\n",
        "# Convertir horas a minutos\n",
        "horas = 2.5  # ejemplo: 2 horas y media\n",
        "minutos = horas * 60\n",
        "print(f\"{horas} horas son {minutos} minutos\")\n"
      ],
      "metadata": {
        "colab": {
          "base_uri": "https://localhost:8080/"
        },
        "id": "GTz5vG785mST",
        "outputId": "f9c64dc2-e8db-4c6c-d4ba-d85b06a220ed"
      },
      "execution_count": 2,
      "outputs": [
        {
          "output_type": "stream",
          "name": "stdout",
          "text": [
            "2.5 horas son 150.0 minutos\n"
          ]
        }
      ]
    },
    {
      "cell_type": "code",
      "source": [
        "# ** Objectives: **\n",
        "\n",
        "List popular languages for Data Science\n",
        "\n",
        "- Python\n",
        "- R\n",
        "- SQL\n"
      ],
      "metadata": {
        "id": "RlKkky3z6OGH"
      },
      "execution_count": null,
      "outputs": []
    },
    {
      "cell_type": "code",
      "source": [
        "# Author H2\n",
        "# Andrea Pacheco"
      ],
      "metadata": {
        "id": "KZH6SKlI8hSw"
      },
      "execution_count": 3,
      "outputs": []
    }
  ]
}